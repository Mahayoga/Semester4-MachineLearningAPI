{
 "cells": [
  {
   "cell_type": "code",
   "execution_count": 1,
   "id": "77438e8b",
   "metadata": {},
   "outputs": [],
   "source": [
    "password = \"Hehe\""
   ]
  },
  {
   "cell_type": "code",
   "execution_count": null,
   "id": "5a0cf7d2",
   "metadata": {},
   "outputs": [],
   "source": [
    "print(encode(password, 'password'))"
   ]
  }
 ],
 "metadata": {
  "kernelspec": {
   "display_name": "Python 3",
   "language": "python",
   "name": "python3"
  },
  "language_info": {
   "codemirror_mode": {
    "name": "ipython",
    "version": 3
   },
   "file_extension": ".py",
   "mimetype": "text/x-python",
   "name": "python",
   "nbconvert_exporter": "python",
   "pygments_lexer": "ipython3",
   "version": "3.11.4"
  }
 },
 "nbformat": 4,
 "nbformat_minor": 5
}
